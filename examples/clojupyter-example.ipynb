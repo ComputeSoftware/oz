{
 "cells": [
  {
   "cell_type": "code",
   "execution_count": 1,
   "metadata": {},
   "outputs": [],
   "source": [
    "(require '[clojupyter.misc.helper :as helper])\n",
    "(helper/add-dependencies '[metasoarous/oz \"1.5.0-SNAPSHOT\"])\n",
    "(require '[oz.notebook.clojupyter :as oz])"
   ]
  },
  {
   "cell_type": "code",
   "execution_count": 8,
   "metadata": {},
   "outputs": [
    {
     "data": {
      "text/html": [
       "\n",
       "<div>\n",
       "  <div id='uuid-d9664aa6-5451-4c5e-975d-a76a6e63fc60'></div>\n",
       "  <script>\n",
       "  requirejs.config({\n",
       "    baseUrl: 'https://cdn.jsdelivr.net/npm/',\n",
       "    paths: {\n",
       "      'vega-embed':  'vega-embed@3?noext',\n",
       "      'vega-lib': 'vega-lib?noext',\n",
       "      'vega-lite': 'vega-lite@2?noext',\n",
       "      'vega': 'vega@3?noext'\n",
       "    }\n",
       "  });\n",
       "  require(['vega-embed'], function(vegaEmbed) {\n",
       "    let spec = {\"data\":{\"url\":\"https:\\/\\/vega.github.io\\/vega-lite\\/data\\/cars.json\"},\"mark\":\"point\",\"encoding\":{\"x\":{\"field\":\"Horsepower\",\"type\":\"quantitative\"},\"y\":{\"field\":\"Miles_per_Gallon\",\"type\":\"quantitative\"},\"color\":{\"field\":\"Origin\",\"type\":\"nominal\"}}};\n",
       "    vegaEmbed('#uuid-d9664aa6-5451-4c5e-975d-a76a6e63fc60', spec, {defaultStyle:true}).catch(console.warn);\n",
       "    }, function(err) {\n",
       "    console.log('Failed to load');\n",
       "  });\n",
       "  </script>\n",
       "</div>\n",
       "  "
      ]
     },
     "execution_count": 8,
     "metadata": {},
     "output_type": "execute_result"
    }
   ],
   "source": [
    "\n",
    ";; Create spec, then visualize\n",
    "(def spec\n",
    "  {:data {:url \"https://vega.github.io/vega-lite/data/cars.json\"}\n",
    "   :mark \"point\"\n",
    "   :encoding {\n",
    "     :x {:field \"Horsepower\", :type \"quantitative\"}\n",
    "     :y {:field \"Miles_per_Gallon\", :type \"quantitative\"}\n",
    "     :color {:field \"Origin\", :type \"nominal\"}}})\n",
    "(oz/view! spec)"
   ]
  },
  {
   "cell_type": "code",
   "execution_count": 11,
   "metadata": {},
   "outputs": [
    {
     "data": {
      "text/html": [
       "<div><h1>A little hiccup example</h1><p>Try drinking a glass of water with your head upside down</p>\n",
       "<div>\n",
       "  <div id='uuid-78e7cfcb-5e0d-4dcf-b646-cd406f55cb81'></div>\n",
       "  <script>\n",
       "  requirejs.config({\n",
       "    baseUrl: 'https://cdn.jsdelivr.net/npm/',\n",
       "    paths: {\n",
       "      'vega-embed':  'vega-embed@3?noext',\n",
       "      'vega-lib': 'vega-lib?noext',\n",
       "      'vega-lite': 'vega-lite@2?noext',\n",
       "      'vega': 'vega@3?noext'\n",
       "    }\n",
       "  });\n",
       "  require(['vega-embed'], function(vegaEmbed) {\n",
       "    let spec = {\"data\":{\"url\":\"https:\\/\\/vega.github.io\\/vega-lite\\/data\\/cars.json\"},\"mark\":\"point\",\"encoding\":{\"x\":{\"field\":\"Horsepower\",\"type\":\"quantitative\"},\"y\":{\"field\":\"Miles_per_Gallon\",\"type\":\"quantitative\"},\"color\":{\"field\":\"Origin\",\"type\":\"nominal\"}}};\n",
       "    vegaEmbed('#uuid-78e7cfcb-5e0d-4dcf-b646-cd406f55cb81', spec, {defaultStyle:true}).catch(console.warn);\n",
       "    }, function(err) {\n",
       "    console.log('Failed to load');\n",
       "  });\n",
       "  </script>\n",
       "</div>\n",
       "  </div>"
      ]
     },
     "execution_count": 11,
     "metadata": {},
     "output_type": "execute_result"
    }
   ],
   "source": [
    "(oz/view!\n",
    "  [:div\n",
    "   [:h1 \"A little hiccup example\"]\n",
    "   [:p \"Try drinking a glass of water with your head upside down\"]\n",
    "   [:vega-lite spec]])"
   ]
  },
  {
   "cell_type": "code",
   "execution_count": 7,
   "metadata": {},
   "outputs": [
    {
     "data": {
      "text/html": [
       "\n",
       "<div>\n",
       "  <div id='uuid-2d388fa2-24e8-4d2b-b2a4-75589c00415f'></div>\n",
       "  <script>\n",
       "  requirejs.config({\n",
       "    baseUrl: 'https://cdn.jsdelivr.net/npm/',\n",
       "    paths: {\n",
       "      'vega-embed':  'vega-embed@3?noext',\n",
       "      'vega-lib': 'vega-lib?noext',\n",
       "      'vega-lite': 'vega-lite@2?noext',\n",
       "      'vega': 'vega@3?noext'\n",
       "    }\n",
       "  });\n",
       "  require(['vega-embed'], function(vegaEmbed) {\n",
       "    let spec = {\"style\":\"cell\",\"width\":200,\"height\":200,\"data\":[{\"name\":\"source_0\",\"url\":\"https:\\/\\/vega.github.io\\/editor\\/data\\/cars.json\",\"format\":{\"type\":\"json\"}}],\"marks\":[{\"name\":\"marks\",\"type\":\"symbol\",\"style\":[\"point\"],\"from\":{\"data\":\"source_0\"},\"encode\":{\"update\":{\"stroke\":{\"scale\":\"color\",\"field\":\"Origin\"},\"x\":{\"scale\":\"x\",\"field\":\"Horsepower\"},\"y\":{\"scale\":\"y\",\"field\":\"Miles_per_Gallon\"}}}}],\"scales\":[{\"name\":\"x\",\"type\":\"linear\",\"domain\":{\"data\":\"source_0\",\"field\":\"Horsepower\"},\"range\":[0,{\"signal\":\"width\"}]},{\"name\":\"y\",\"type\":\"linear\",\"domain\":{\"data\":\"source_0\",\"field\":\"Miles_per_Gallon\"},\"range\":[{\"signal\":\"height\"},0]},{\"name\":\"color\",\"type\":\"ordinal\",\"domain\":{\"data\":\"source_0\",\"field\":\"Origin\"},\"range\":\"category\"}]};\n",
       "    vegaEmbed('#uuid-2d388fa2-24e8-4d2b-b2a4-75589c00415f', spec, {defaultStyle:true}).catch(console.warn);\n",
       "    }, function(err) {\n",
       "    console.log('Failed to load');\n",
       "  });\n",
       "  </script>\n",
       "</div>\n",
       "  "
      ]
     },
     "execution_count": 7,
     "metadata": {},
     "output_type": "execute_result"
    }
   ],
   "source": [
    "(def vg-spec\n",
    "  {:style \"cell\",\n",
    "   :width 200,\n",
    "   :height 200,\n",
    "   :data\n",
    "   [{:name \"source_0\",\n",
    "     :url \"https://vega.github.io/editor/data/cars.json\",\n",
    "     :format {:type \"json\"}}],\n",
    "   :marks\n",
    "   [{:name \"marks\",\n",
    "     :type \"symbol\",\n",
    "     :style [\"point\"],\n",
    "     :from {:data \"source_0\"},\n",
    "     :encode\n",
    "     {:update\n",
    "      {:stroke {:scale \"color\", :field \"Origin\"},\n",
    "       :x {:scale \"x\", :field \"Horsepower\"},\n",
    "       :y {:scale \"y\", :field \"Miles_per_Gallon\"}}}}],\n",
    "   :scales\n",
    "   [{:name \"x\",\n",
    "     :type \"linear\",\n",
    "     :domain {:data \"source_0\", :field \"Horsepower\"},\n",
    "     :range [0 {:signal \"width\"}]}\n",
    "    {:name \"y\",\n",
    "     :type \"linear\",\n",
    "     :domain {:data \"source_0\", :field \"Miles_per_Gallon\"},\n",
    "     :range [{:signal \"height\"} 0]}\n",
    "    {:name \"color\",\n",
    "     :type \"ordinal\",\n",
    "     :domain {:data \"source_0\", :field \"Origin\"},\n",
    "     :range \"category\"}]})\n",
    "(oz/view! vg-spec)"
   ]
  },
  {
   "cell_type": "code",
   "execution_count": null,
   "metadata": {},
   "outputs": [],
   "source": []
  }
 ],
 "metadata": {
  "kernelspec": {
   "display_name": "Clojure",
   "language": "clojure",
   "name": "clojure"
  },
  "language_info": {
   "file_extension": ".clj",
   "mimetype": "text/x-clojure",
   "name": "clojure",
   "version": "1.8.0"
  }
 },
 "nbformat": 4,
 "nbformat_minor": 2
}
