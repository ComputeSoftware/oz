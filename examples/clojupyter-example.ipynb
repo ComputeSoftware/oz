{
 "cells": [
  {
   "cell_type": "markdown",
   "metadata": {},
   "source": [
    "# Clojupyter + oz example\n",
    "\n",
    "This notebook demonstrates basic usage of oz from a Jupyter notebook using the Clojuypyter kernel.\n",
    "\n",
    "Note that the visualizations below may not render if you're looking at this on GitHub, but will render if you load the notebook into a running Jupyter instance."
   ]
  },
  {
   "cell_type": "code",
   "execution_count": 2,
   "metadata": {},
   "outputs": [],
   "source": [
    "(require '[clojupyter.misc.helper :as helper])\n",
    "(helper/add-dependencies '[metasoarous/oz \"1.5.0\"])\n",
    "(require '[oz.notebook.clojupyter :as oz])"
   ]
  },
  {
   "cell_type": "code",
   "execution_count": 3,
   "metadata": {},
   "outputs": [
    {
     "data": {
      "text/html": [
       "\n",
       "<div>\n",
       "  <div id='uuid-2673747c-3512-4bd6-a881-8a45dbac7e1e'></div>\n",
       "  <script>\n",
       "  requirejs.config({\n",
       "    baseUrl: 'https://cdn.jsdelivr.net/npm/',\n",
       "    paths: {\n",
       "      'vega-embed':  'vega-embed@3?noext',\n",
       "      'vega-lib': 'vega-lib?noext',\n",
       "      'vega-lite': 'vega-lite@2?noext',\n",
       "      'vega': 'vega@3?noext'\n",
       "    }\n",
       "  });\n",
       "  require(['vega-embed'], function(vegaEmbed) {\n",
       "    let spec = {\"data\":{\"url\":\"https:\\/\\/vega.github.io\\/vega-lite\\/data\\/cars.json\"},\"mark\":\"point\",\"encoding\":{\"x\":{\"field\":\"Horsepower\",\"type\":\"quantitative\"},\"y\":{\"field\":\"Miles_per_Gallon\",\"type\":\"quantitative\"},\"color\":{\"field\":\"Origin\",\"type\":\"nominal\"}}};\n",
       "    vegaEmbed('#uuid-2673747c-3512-4bd6-a881-8a45dbac7e1e', spec, {defaultStyle:true}).catch(console.warn);\n",
       "    }, function(err) {\n",
       "    console.log('Failed to load');\n",
       "  });\n",
       "  </script>\n",
       "</div>\n",
       "  "
      ]
     },
     "execution_count": 3,
     "metadata": {},
     "output_type": "execute_result"
    }
   ],
   "source": [
    "\n",
    ";; Create spec, then visualize\n",
    "(def spec\n",
    "  {:data {:url \"https://vega.github.io/vega-lite/data/cars.json\"}\n",
    "   :mark \"point\"\n",
    "   :encoding {\n",
    "     :x {:field \"Horsepower\", :type \"quantitative\"}\n",
    "     :y {:field \"Miles_per_Gallon\", :type \"quantitative\"}\n",
    "     :color {:field \"Origin\", :type \"nominal\"}}})\n",
    "(oz/view! spec)"
   ]
  },
  {
   "cell_type": "code",
   "execution_count": 4,
   "metadata": {},
   "outputs": [
    {
     "data": {
      "text/html": [
       "<div><h1>A little hiccup example</h1><p>Try drinking a glass of water with your head upside down</p>\n",
       "<div>\n",
       "  <div id='uuid-2c669306-7885-404e-b4c2-dc062cb20e4f'></div>\n",
       "  <script>\n",
       "  requirejs.config({\n",
       "    baseUrl: 'https://cdn.jsdelivr.net/npm/',\n",
       "    paths: {\n",
       "      'vega-embed':  'vega-embed@3?noext',\n",
       "      'vega-lib': 'vega-lib?noext',\n",
       "      'vega-lite': 'vega-lite@2?noext',\n",
       "      'vega': 'vega@3?noext'\n",
       "    }\n",
       "  });\n",
       "  require(['vega-embed'], function(vegaEmbed) {\n",
       "    let spec = {\"data\":{\"url\":\"https:\\/\\/vega.github.io\\/vega-lite\\/data\\/cars.json\"},\"mark\":\"point\",\"encoding\":{\"x\":{\"field\":\"Horsepower\",\"type\":\"quantitative\"},\"y\":{\"field\":\"Miles_per_Gallon\",\"type\":\"quantitative\"},\"color\":{\"field\":\"Origin\",\"type\":\"nominal\"}}};\n",
       "    vegaEmbed('#uuid-2c669306-7885-404e-b4c2-dc062cb20e4f', spec, {defaultStyle:true}).catch(console.warn);\n",
       "    }, function(err) {\n",
       "    console.log('Failed to load');\n",
       "  });\n",
       "  </script>\n",
       "</div>\n",
       "  </div>"
      ]
     },
     "execution_count": 4,
     "metadata": {},
     "output_type": "execute_result"
    }
   ],
   "source": [
    "(oz/view!\n",
    "  [:div\n",
    "   [:h1 \"A little hiccup example\"]\n",
    "   [:p \"Try drinking a glass of water with your head upside down\"]\n",
    "   [:vega-lite spec]])"
   ]
  },
  {
   "cell_type": "code",
   "execution_count": 5,
   "metadata": {},
   "outputs": [
    {
     "data": {
      "text/html": [
       "\n",
       "<div>\n",
       "  <div id='uuid-c1fbee54-84b0-43e9-b35c-7feecc407f9e'></div>\n",
       "  <script>\n",
       "  requirejs.config({\n",
       "    baseUrl: 'https://cdn.jsdelivr.net/npm/',\n",
       "    paths: {\n",
       "      'vega-embed':  'vega-embed@3?noext',\n",
       "      'vega-lib': 'vega-lib?noext',\n",
       "      'vega-lite': 'vega-lite@2?noext',\n",
       "      'vega': 'vega@3?noext'\n",
       "    }\n",
       "  });\n",
       "  require(['vega-embed'], function(vegaEmbed) {\n",
       "    let spec = {\"style\":\"cell\",\"width\":200,\"height\":200,\"data\":[{\"name\":\"source_0\",\"url\":\"https:\\/\\/vega.github.io\\/editor\\/data\\/cars.json\",\"format\":{\"type\":\"json\"}}],\"marks\":[{\"name\":\"marks\",\"type\":\"symbol\",\"style\":[\"point\"],\"from\":{\"data\":\"source_0\"},\"encode\":{\"update\":{\"stroke\":{\"scale\":\"color\",\"field\":\"Origin\"},\"x\":{\"scale\":\"x\",\"field\":\"Horsepower\"},\"y\":{\"scale\":\"y\",\"field\":\"Miles_per_Gallon\"}}}}],\"scales\":[{\"name\":\"x\",\"type\":\"linear\",\"domain\":{\"data\":\"source_0\",\"field\":\"Horsepower\"},\"range\":[0,{\"signal\":\"width\"}]},{\"name\":\"y\",\"type\":\"linear\",\"domain\":{\"data\":\"source_0\",\"field\":\"Miles_per_Gallon\"},\"range\":[{\"signal\":\"height\"},0]},{\"name\":\"color\",\"type\":\"ordinal\",\"domain\":{\"data\":\"source_0\",\"field\":\"Origin\"},\"range\":\"category\"}]};\n",
       "    vegaEmbed('#uuid-c1fbee54-84b0-43e9-b35c-7feecc407f9e', spec, {defaultStyle:true}).catch(console.warn);\n",
       "    }, function(err) {\n",
       "    console.log('Failed to load');\n",
       "  });\n",
       "  </script>\n",
       "</div>\n",
       "  "
      ]
     },
     "execution_count": 5,
     "metadata": {},
     "output_type": "execute_result"
    }
   ],
   "source": [
    "(def vg-spec\n",
    "  {:style \"cell\",\n",
    "   :width 200,\n",
    "   :height 200,\n",
    "   :data\n",
    "   [{:name \"source_0\",\n",
    "     :url \"https://vega.github.io/editor/data/cars.json\",\n",
    "     :format {:type \"json\"}}],\n",
    "   :marks\n",
    "   [{:name \"marks\",\n",
    "     :type \"symbol\",\n",
    "     :style [\"point\"],\n",
    "     :from {:data \"source_0\"},\n",
    "     :encode\n",
    "     {:update\n",
    "      {:stroke {:scale \"color\", :field \"Origin\"},\n",
    "       :x {:scale \"x\", :field \"Horsepower\"},\n",
    "       :y {:scale \"y\", :field \"Miles_per_Gallon\"}}}}],\n",
    "   :scales\n",
    "   [{:name \"x\",\n",
    "     :type \"linear\",\n",
    "     :domain {:data \"source_0\", :field \"Horsepower\"},\n",
    "     :range [0 {:signal \"width\"}]}\n",
    "    {:name \"y\",\n",
    "     :type \"linear\",\n",
    "     :domain {:data \"source_0\", :field \"Miles_per_Gallon\"},\n",
    "     :range [{:signal \"height\"} 0]}\n",
    "    {:name \"color\",\n",
    "     :type \"ordinal\",\n",
    "     :domain {:data \"source_0\", :field \"Origin\"},\n",
    "     :range \"category\"}]})\n",
    "(oz/view! vg-spec)"
   ]
  },
  {
   "cell_type": "code",
   "execution_count": null,
   "metadata": {},
   "outputs": [],
   "source": []
  }
 ],
 "metadata": {
  "kernelspec": {
   "display_name": "Clojure",
   "language": "clojure",
   "name": "clojure"
  },
  "language_info": {
   "file_extension": ".clj",
   "mimetype": "text/x-clojure",
   "name": "clojure",
   "version": "1.8.0"
  }
 },
 "nbformat": 4,
 "nbformat_minor": 2
}
